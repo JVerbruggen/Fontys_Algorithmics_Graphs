{
 "cells": [
  {
   "cell_type": "markdown",
   "metadata": {},
   "source": [
    "# Algorithms & Data Structures 2\n",
    "Jurjen Verbruggen"
   ]
  },
  {
   "cell_type": "markdown",
   "metadata": {},
   "source": [
    "# Graph generation\n",
    "\n",
    "Below you can find several sliders to generate a nice graph. $n$ = the amount of nodes in the graph, and $p$ is the probability of generating an edge between any two nodes. Click on the Update button to generate a new graph given the two parameters, and click on Connect to join a disconnected graph together."
   ]
  },
  {
   "cell_type": "code",
   "execution_count": 41,
   "metadata": {},
   "outputs": [],
   "source": [
    "from IPython.display import display, Markdown, clear_output\n",
    "import ipywidgets as widgets\n",
    "from vertex_manipulations import *\n",
    "import random\n",
    "import networkx as nx\n",
    "import matplotlib.pyplot as plt\n",
    "from vcover import *\n",
    "from graph import LabGraph\n",
    "from graph_factory import *\n",
    "from ipywidgets_debounce import *\n",
    "\n",
    "debug_mode = False\n",
    "default_n = 21\n",
    "default_p = 0.8\n",
    "default_k = 17\n",
    "\n",
    "n_input = widgets.IntSlider(value = default_n, min=1, max=100, step=1, description=\"n\")\n",
    "p_input = widgets.FloatSlider(value = default_p, min=0, max=1, step=0.01, description=\"p\")\n",
    "reroll_button = widgets.Button(description=\"Reroll\")\n",
    "connect_button = widgets.Button(description=\"Connect\")\n",
    "\n",
    "pendant_plus_button = widgets.Button(description=\"p++\")\n",
    "pendant_minus_button = widgets.Button(description=\"p--\")\n",
    "tops_plus_button = widgets.Button(description=\"t++\")\n",
    "tops_minus_button = widgets.Button(description=\"t--\")\n",
    "highlight_kernelization_button = widgets.Button(description=\"Refresh\")\n",
    "\n",
    "k_vcover_input_max = n_input.value\n",
    "k_vcover_input = widgets.IntSlider(value=default_k, min=1, max=k_vcover_input_max, step=1, description=\"k\")\n",
    "calculate_k_vcover_button = widgets.Button(description=\"Calculate\")\n",
    "calculated_text = widgets.Textarea(description=\"calculated\")\n",
    "calculated_one_text = widgets.Textarea()\n",
    "progressbar_spec = widgets.Label(description=\"spec\")\n",
    "vcover_progressbar = widgets.IntProgress(min=0, max=1, value=0, description=\"progress\")\n",
    "\n",
    "calculate_vcover_mode_buttons = widgets.RadioButtons(\n",
    "    options=['brute force', 'enhanced brute force'],\n",
    "    value='brute force',\n",
    "    description='Mode'\n",
    ")\n",
    "out_graph = widgets.Output()\n",
    "matrix_widget = widgets.Output()\n",
    "\n",
    "debug_view = widgets.Output(layout={'border': '1px solid black'})\n",
    "logger_area = widgets.Textarea(description=\"log\")\n",
    "\n",
    "class State:\n",
    "    displayed_graph = GraphFactory.generate_networkx_matrix(default_n, default_p)\n",
    "    vcover_interrupt = 0\n",
    "    ui_update_debounce = 200\n",
    "    ui_update_debounce_state = ui_update_debounce\n",
    "\n",
    "    def set_update_debounce(x: int):\n",
    "        ui_update_debounce = x\n",
    "        ui_update_debounce_state = x"
   ]
  },
  {
   "cell_type": "code",
   "execution_count": 42,
   "metadata": {},
   "outputs": [
    {
     "data": {
      "application/vnd.jupyter.widget-view+json": {
       "model_id": "1e499e6af01d40549ab8a3726d4ac4d7",
       "version_major": 2,
       "version_minor": 0
      },
      "text/plain": [
       "VBox(children=(IntSlider(value=21, description='n', min=1), FloatSlider(value=0.8, description='p', max=1.0, s…"
      ]
     },
     "metadata": {},
     "output_type": "display_data"
    }
   ],
   "source": [
    "generator_controls = widgets.VBox([n_input, p_input, widgets.HBox([reroll_button, connect_button])])\n",
    "generator_controls"
   ]
  },
  {
   "cell_type": "code",
   "execution_count": 43,
   "metadata": {},
   "outputs": [
    {
     "data": {
      "application/vnd.jupyter.widget-view+json": {
       "model_id": "d90152496b9e4d3f8a5ea5ef34e28343",
       "version_major": 2,
       "version_minor": 0
      },
      "text/plain": [
       "Output()"
      ]
     },
     "metadata": {},
     "output_type": "display_data"
    }
   ],
   "source": [
    "def draw_nx(graph):\n",
    "    color_map = graph.get_color_map(k_vcover_input.value)\n",
    "    nx.draw(graph, node_color=color_map, pos=nx.spring_layout(graph, seed = 1))\n",
    "    nx.draw_networkx_labels(graph, pos=nx.spring_layout(graph, seed = 1))\n",
    "    k_vcover_input.max = len(graph.nodes())\n",
    "\n",
    "out_graph"
   ]
  },
  {
   "cell_type": "code",
   "execution_count": 44,
   "metadata": {},
   "outputs": [
    {
     "data": {
      "application/vnd.jupyter.widget-view+json": {
       "model_id": "3fcb57b2240d4e38ae5c4aba61559226",
       "version_major": 2,
       "version_minor": 0
      },
      "text/plain": [
       "Output()"
      ]
     },
     "metadata": {},
     "output_type": "display_data"
    }
   ],
   "source": [
    "matrix_widget"
   ]
  },
  {
   "cell_type": "code",
   "execution_count": 45,
   "metadata": {},
   "outputs": [],
   "source": [
    "def update_matrix():\n",
    "    with matrix_widget:\n",
    "        clear_output()\n",
    "        graph = State.displayed_graph\n",
    "        result = graph.print_matrix()\n",
    "        print(result)\n",
    "\n",
    "def on_connect():\n",
    "    with out_graph:\n",
    "        graph = State.displayed_graph\n",
    "        if graph is not None:\n",
    "            clear_output()\n",
    "            graph.connect()\n",
    "            update_matrix()\n",
    "            draw_nx(graph)\n",
    "            plt.show()\n",
    "\n",
    "def on_reroll():\n",
    "    with out_graph:\n",
    "        clear_output()\n",
    "        connect_button.disabled = False\n",
    "        n = n_input.value\n",
    "        p = p_input.value\n",
    "        graph = GraphFactory.generate_networkx_matrix(n, p)\n",
    "        State.displayed_graph = graph\n",
    "        calculate_k_vcover_button.disabled = False\n",
    "        draw_nx(State.displayed_graph)\n",
    "        plt.show()\n",
    "    update_matrix()\n",
    "\n",
    "def on_connect_button(_):\n",
    "    on_connect()\n",
    "\n",
    "def on_reroll_button(_):\n",
    "    on_reroll()\n",
    "\n",
    "reroll_button.on_click(on_reroll_button)\n",
    "connect_button.on_click(on_connect_button)\n",
    "\n",
    "def refresh_outputs():\n",
    "    with out_graph:\n",
    "        dg = State.displayed_graph\n",
    "        if dg is not None:\n",
    "            clear_output()\n",
    "            color_map = dg.get_color_map(k_vcover_input.value)\n",
    "            draw_nx(dg)\n",
    "            plt.show()\n",
    "            update_matrix()\n",
    "\n",
    "def refresh_with_coloring():\n",
    "    refresh_outputs()\n",
    "\n",
    "def on_pendant_plus_button(_):\n",
    "    State.displayed_graph.add_pendant()\n",
    "    refresh_with_coloring()\n",
    "\n",
    "def on_pendant_minus_button(_):\n",
    "    State.displayed_graph.remove_pendant()\n",
    "    refresh_with_coloring()\n",
    "\n",
    "def on_tops_plus_button(_):\n",
    "    k = k_vcover_input.value\n",
    "    State.displayed_graph.add_tops(k)\n",
    "    refresh_with_coloring()\n",
    "\n",
    "def on_tops_minus_button(_):\n",
    "    k = k_vcover_input.value\n",
    "    State.displayed_graph.remove_tops(k)\n",
    "    refresh_with_coloring()\n",
    "\n",
    "def on_highlight_kernelization_button(_):\n",
    "    refresh_with_coloring()\n",
    "\n",
    "pendant_plus_button.on_click(on_pendant_plus_button)\n",
    "pendant_minus_button.on_click(on_pendant_minus_button)\n",
    "tops_plus_button.on_click(on_tops_plus_button)\n",
    "tops_minus_button.on_click(on_tops_minus_button)\n",
    "highlight_kernelization_button.on_click(on_highlight_kernelization_button)\n"
   ]
  },
  {
   "cell_type": "code",
   "execution_count": 46,
   "metadata": {},
   "outputs": [
    {
     "data": {
      "application/vnd.jupyter.widget-view+json": {
       "model_id": "3d89a3b2e3774d01b46c496bf9930171",
       "version_major": 2,
       "version_minor": 0
      },
      "text/plain": [
       "HBox(children=(VBox(children=(HBox(children=(IntSlider(value=17, description='k', max=21, min=1), Button(descr…"
      ]
     },
     "metadata": {},
     "output_type": "display_data"
    }
   ],
   "source": [
    "def on_update_k_slider(_):\n",
    "    refresh_with_coloring()\n",
    "\n",
    "def set_progressbar(val):\n",
    "    max = vcover_progressbar.max\n",
    "    quo = val/max*100\n",
    "    progressbar_spec.value = \"%.2f\" % quo + \"% (\" + str(val) + \"/\" + str(max) + \")\"\n",
    "    if val > max: return\n",
    "    vcover_progressbar.value = val\n",
    "\n",
    "def complete_progressbar():\n",
    "    set_progressbar(vcover_progressbar.max)\n",
    "    State.ui_update_debounce_state = State.ui_update_debounce\n",
    "\n",
    "def update_progressbar(x: int):\n",
    "    State.ui_update_debounce_state -= 1\n",
    "    if State.ui_update_debounce_state > 0:\n",
    "        return\n",
    "    State.ui_update_debounce_state = State.ui_update_debounce\n",
    "\n",
    "    val = vcover_progressbar.value\n",
    "    set_progressbar(x+val)\n",
    "    \n",
    "def update_calculated_text(x: str):\n",
    "    calculated_text.value = x\n",
    "\n",
    "def on_calculate_k_vcover_button(_):\n",
    "    calculate_k_vcover_button.disabled = True\n",
    "    if State.displayed_graph == None:\n",
    "        return\n",
    "\n",
    "    g = State.displayed_graph\n",
    "    nodes = list(g.nodes())\n",
    "    edges = list(g.edges())\n",
    "    k = k_vcover_input.value\n",
    "    n = len(nodes)\n",
    "    enhanced_mode = calculate_vcover_mode_buttons.value == \"enhanced brute force\"\n",
    "\n",
    "    vcover_progressbar.value = 0\n",
    "    vcovers = None\n",
    "\n",
    "    pbar_incr = lambda x : update_progressbar(x)\n",
    "    pbar_desc = lambda x : update_calculated_text(x)\n",
    "\n",
    "    if enhanced_mode:\n",
    "        complx = 2**k+n\n",
    "        State.set_update_debounce(int(complx/100))\n",
    "        vcover_progressbar.max = complx\n",
    "\n",
    "        vcovers = find_vcovers_enhanced(nodes, edges, n, k, pbar_incr, pbar_desc)\n",
    "    else:\n",
    "        complx = 2**k # Not n because brute force stops if len(VC) > k\n",
    "        State.set_update_debounce(int(complx/100))\n",
    "        vcover_progressbar.max = complx\n",
    "        vcovers = find_vcovers_brute(nodes, edges, n, k, pbar_incr, pbar_desc)\n",
    "    \n",
    "    complete_progressbar()\n",
    "    if vcovers == None or len(vcovers) == 0:\n",
    "        update_calculated_text(\"No v-cover possible for k=\" + str(k))\n",
    "    else:\n",
    "        update_calculated_text(\"Possible v-covers: \\n\" + str(vcovers))\n",
    "        vcover = vcovers[0]\n",
    "        calculated_one_text.value = str(vcover)\n",
    "    \n",
    "    calculate_k_vcover_button.disabled = False\n",
    "\n",
    "calculate_k_vcover_button.on_click(on_calculate_k_vcover_button)\n",
    "\n",
    "box_week2 = widgets.VBox([\n",
    "    widgets.HBox([k_vcover_input, highlight_kernelization_button]), \n",
    "    widgets.HBox([calculate_vcover_mode_buttons, calculate_k_vcover_button]), \n",
    "    widgets.HBox([calculated_text, calculated_one_text]), \n",
    "    vcover_progressbar, \n",
    "    progressbar_spec,\n",
    "    widgets.HBox([pendant_plus_button, pendant_minus_button]),\n",
    "    widgets.HBox([tops_plus_button, tops_minus_button])\n",
    "])\n",
    "cpanel = widgets.HBox([\n",
    "    box_week2,\n",
    "    widgets.VBox([\n",
    "        logger_area\n",
    "    ])\n",
    "])\n",
    "\n",
    "if debug_mode:\n",
    "    on_calculate_k_vcover_button(1)\n",
    "cpanel"
   ]
  }
 ],
 "metadata": {
  "interpreter": {
   "hash": "883c4abf4a0508d0816d710d3d2bf12d5dead1f2acd091a24a7c12c2b379361b"
  },
  "kernelspec": {
   "display_name": "Python 3.9.7 64-bit",
   "name": "python3"
  },
  "language_info": {
   "codemirror_mode": {
    "name": "ipython",
    "version": 3
   },
   "file_extension": ".py",
   "mimetype": "text/x-python",
   "name": "python",
   "nbconvert_exporter": "python",
   "pygments_lexer": "ipython3",
   "version": "3.9.7"
  },
  "orig_nbformat": 4
 },
 "nbformat": 4,
 "nbformat_minor": 2
}
